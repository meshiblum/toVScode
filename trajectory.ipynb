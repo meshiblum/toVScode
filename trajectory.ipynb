# This function solves the non-linear problem, we need to use SPICE to completley define all the variables to this problem.
# This will require to also change the function a bit to make the args[] change with time

import numpy as np
from scipy.integrate import solve_ivp
import matplotlib.pyplot as plt
from mpl_toolkits.mplot3d import Axes3D


# Define the second-order ODE system
def odefunc(t, r, r_moon_earth, r_moon_s_hat, r_earth_s_hat):
    G = 6.67430e-11
    mass_moon = 7.35e22
    mass_earth = 5.97e24
    dxdt = r[1]
    dydt = r[3]
    dzdt = r[5]
    distance_arr = np.array([r[0],r[2],r[4]])
    dx2dt2 = r_moon_s_hat[0]*G*mass_moon/(abs(distance_arr+r_moon_earth))^2 + r_earth_s_hat[0]*G*mass_earth/(abs(distance_arr))^2
    dy2dt2 = r_moon_s_hat[1]*G*mass_moon/(abs(distance_arr+r_moon_earth))^2 + r_earth_s_hat[1]*G*mass_earth/(abs(distance_arr))^2
    dz2dt2 = r_moon_s_hat[2]*G*mass_moon/(abs(distance_arr+r_moon_earth))^2 + r_earth_s_hat[2]*G*mass_earth/(abs(distance_arr))^2
    return [dxdt, dx2dt2, dydt, dy2dt2, dzdt, dz2dt2]


# Set the initial conditions
initial_time = 0
initial_state = [6371, 0, 0, 0, 0, -0.047]  # x(0) = 1, dx/dt(0) = 0, y(0) = 2, dy/dt(0) = 0 ...

# Set the time span for integration
t_span = (0, 24*3600)

# Solve the second-order ODE system using solve_ivp
r_moon_s_hat_earth = []
r_moon_s_hat = []
r_earth_s_hat = []
sol = solve_ivp(odefunc, t_span, initial_state, args=(r_moon_s_hat_earth, r_moon_s_hat, r_earth_s_hat,), t_eval=np.linspace(t_span[0], t_span[1], 100))

# Plot the solutions for x and y
plt.plot(sol.t, sol.y[0], label='x(t)')
plt.plot(sol.t, sol.y[2], label='y(t)')
plt.plot(sol.t, sol.y[4], label='z(t)')
plt.title('Solution of the Second-Order ODE System')
plt.xlabel('Time')
plt.ylabel('Function Values')
plt.legend()
plt.show()

fig = plt.figure()
ax = fig.add_subplot(111, projection='3d')
ax.plot(sol.y[0], sol.y[2], sol.y[4], label='3D Curve')
ax.set_xlabel('X-axis')
ax.set_ylabel('Y-axis')
ax.set_zlabel('Z-axis')
ax.set_title('3D Plot Example')
ax.legend()
plt.show()
